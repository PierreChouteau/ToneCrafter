{
  "nbformat": 4,
  "nbformat_minor": 0,
  "metadata": {
    "kernelspec": {
      "display_name": "Python 3",
      "language": "python",
      "name": "python3"
    },
    "language_info": {
      "codemirror_mode": {
        "name": "ipython",
        "version": 3
      },
      "file_extension": ".py",
      "mimetype": "text/x-python",
      "name": "python",
      "nbconvert_exporter": "python",
      "pygments_lexer": "ipython3",
      "version": "3.7.7"
    },
    "colab": {
      "name": "Modele MFCC",
      "provenance": [],
      "collapsed_sections": [],
      "toc_visible": true
    }
  },
  "cells": [
    {
      "cell_type": "code",
      "metadata": {
        "id": "Yykeq1hEvE7x"
      },
      "source": [
        "import numpy as np\n",
        "import pandas as pd\n",
        "from sklearn.preprocessing import StandardScaler, OneHotEncoder\n",
        "from sklearn.compose import make_column_transformer, make_column_selector\n",
        "from sklearn.model_selection import train_test_split\n",
        "import matplotlib.pyplot as plt\n",
        "import tensorflow as tf\n",
        "import os\n",
        "import librosa\n",
        "from librosa import display\n",
        "import IPython.display as ipd\n",
        "audio_dir='/content/drive/MyDrive/Colab Notebooks/Audio/'"
      ],
      "execution_count": null,
      "outputs": []
    },
    {
      "cell_type": "markdown",
      "metadata": {
        "id": "_AkKysPcbxUA"
      },
      "source": [
        "#Creating Dataset"
      ]
    },
    {
      "cell_type": "code",
      "metadata": {
        "id": "nNbYGdO4akFk"
      },
      "source": [
        "def get_filename(dir_name):\n",
        "  filenames_list=[]\n",
        "  for entry in os.scandir(dir_name):\n",
        "     if (entry.path.endswith(\".wav\") and entry.is_file()):\n",
        "      filenames_list.append(entry.name)\n",
        "  return filenames_list\n",
        "\n",
        "def get_subfolders(dir_name):\n",
        "  dirlist=[]\n",
        "  for item in os.listdir(dir_name):\n",
        "    if os.path.isdir(item):\n",
        "        dirlist.append(item)\n",
        "  return dirlist\n",
        "\n",
        "def Audio_to_tensor(dir_name):\n",
        "  os.chdir(dir_name)\n",
        "  print(dir_name)\n",
        "  X=[]\n",
        "  folder_list=get_subfolders(dir_name)\n",
        "  avance=1\n",
        "  for folder in folder_list:\n",
        "    print(\"Treating folder\",avance,\"out of\",np.size(folder_list))\n",
        "    avance=avance+1\n",
        "    filename_list=get_filename(dir_name+'/'+folder)\n",
        "    os.chdir(dir_name+'/'+folder)\n",
        "    for file in filename_list:\n",
        "      S,sr=librosa.load(dir_name+'/'+folder+'/'+file)\n",
        "      sf=librosa.feature.mfcc(S,n_mfcc=40)\n",
        "      X.append(sf)\n",
        "  X=np.array(X)\n",
        "  tensor=tf.convert_to_tensor(X,dtype=tf.float32)\n",
        "  print(\"Done !\")\n",
        "  return tensor"
      ],
      "execution_count": null,
      "outputs": []
    },
    {
      "cell_type": "code",
      "metadata": {
        "id": "kKeZE7T3PCVz"
      },
      "source": [
        "X=Audio_to_tensor(audio_dir+'X_train')\n",
        "y=Audio_to_tensor(audio_dir+'y_train')\n",
        "X_valid=Audio_to_tensor(audio_dir+'X_valid')\n",
        "y_valid=Audio_to_tensor(audio_dir+'y_valid')"
      ],
      "execution_count": null,
      "outputs": []
    },
    {
      "cell_type": "code",
      "metadata": {
        "id": "4H_10gVRe-dW"
      },
      "source": [
        "input_shape = X.shape[1:]\n",
        "\n",
        "print(\"Input shape: {}\".format(input_shape))"
      ],
      "execution_count": null,
      "outputs": []
    },
    {
      "cell_type": "markdown",
      "metadata": {
        "id": "nywTT3UYvE7Q"
      },
      "source": [
        "#CNN"
      ]
    },
    {
      "cell_type": "markdown",
      "metadata": {
        "id": "uNPePZNPTBl5"
      },
      "source": [
        "## Configuration of our CNN"
      ]
    },
    {
      "cell_type": "code",
      "metadata": {
        "id": "X0pJ24YgeThG"
      },
      "source": [
        "from tensorflow.keras import callbacks\n",
        "early_stopping=callbacks.EarlyStopping(\n",
        "    patience=5,\n",
        "    min_delta=0.01,\n",
        "    restore_best_weights=True\n",
        ")"
      ],
      "execution_count": null,
      "outputs": []
    },
    {
      "cell_type": "code",
      "metadata": {
        "id": "g3kNf22UTJo-"
      },
      "source": [
        "from tensorflow import keras\n",
        "from tensorflow.keras import layers\n",
        "model = keras.Sequential([\n",
        "        tf.keras.layers.Conv1D(9, 3,padding=\"same\",activation='relu',input_shape=input_shape),\n",
        "        #tf.keras.layers.MaxPooling1D(pool_size=2, padding='valid'),\n",
        "        ])\n",
        "model.compile(\n",
        "    optimizer = 'Adam',\n",
        "    loss = 'mae',)\n",
        "model.summary()"
      ],
      "execution_count": null,
      "outputs": []
    },
    {
      "cell_type": "markdown",
      "metadata": {
        "id": "-7KMOSkh5IeN"
      },
      "source": [
        "## Training of our model"
      ]
    },
    {
      "cell_type": "code",
      "metadata": {
        "id": "_3OfyE-BV2Z2"
      },
      "source": [
        "history = model.fit(\n",
        "    X, y,\n",
        "    validation_data=(X_valid,y_valid),\n",
        "    batch_size=1160,\n",
        "    epochs=1500,\n",
        "    callbacks=[early_stopping]\n",
        ")\n",
        "# Start the plot at epoch 10\n",
        "history_df = pd.DataFrame(history.history)\n",
        "history_df.loc[:, ['loss', 'val_loss']].plot()\n",
        "print(\"Minimum Validation Loss: {:0.4f}\".format(history_df['val_loss'].min()));"
      ],
      "execution_count": null,
      "outputs": []
    },
    {
      "cell_type": "markdown",
      "metadata": {
        "id": "92rRNHEhsLyh"
      },
      "source": [
        "##Results"
      ]
    },
    {
      "cell_type": "markdown",
      "metadata": {
        "id": "JL2tXEjrsOqZ"
      },
      "source": [
        "After training our model, we decided to make a prediction using the same dataset used to train it. This is obviously not a good idea, but it is a quick and dirty way to see if our model has learned anything.\n",
        "Our previous models were not even capable of doing that. \n",
        "Of course, we will make predictions on a specific dataset to validate our  findings."
      ]
    },
    {
      "cell_type": "code",
      "metadata": {
        "id": "uAHKREpjf3Ec"
      },
      "source": [
        "y_predict=model.predict(X)"
      ],
      "execution_count": null,
      "outputs": []
    },
    {
      "cell_type": "markdown",
      "metadata": {
        "id": "x8NC2Vrnt91C"
      },
      "source": [
        "### Visualizing our predictions"
      ]
    },
    {
      "cell_type": "code",
      "metadata": {
        "id": "jd43e0Ckiup_"
      },
      "source": [
        "fig, ax = plt.subplots()\n",
        "img = librosa.display.specshow(y_predict[180], x_axis='time', ax=ax)\n",
        "fig.colorbar(img, ax=ax)\n",
        "ax.set(title='MFCC')\n"
      ],
      "execution_count": null,
      "outputs": []
    },
    {
      "cell_type": "code",
      "metadata": {
        "id": "b4rnf4FIvkhe"
      },
      "source": [
        "fig, ax = plt.subplots()\n",
        "img = librosa.display.specshow(y_train[180], x_axis='time', ax=ax)\n",
        "fig.colorbar(img, ax=ax)\n",
        "ax.set(title='MFCC')\n"
      ],
      "execution_count": null,
      "outputs": []
    },
    {
      "cell_type": "markdown",
      "metadata": {
        "id": "hJnI0sK6tXYI"
      },
      "source": [
        "### Listening to the predicitions :\n"
      ]
    },
    {
      "cell_type": "code",
      "metadata": {
        "id": "owtTklVfVQ9a"
      },
      "source": [
        "ipd.Audio(librosa.feature.inverse.mfcc_to_audio(y_train[181], n_mels=128, dct_type=2, norm='ortho', ref=1.0, lifter=0),rate=44100)"
      ],
      "execution_count": null,
      "outputs": []
    },
    {
      "cell_type": "code",
      "metadata": {
        "id": "mOeBw8AcVUJG"
      },
      "source": [
        "ipd.Audio(librosa.feature.inverse.mfcc_to_audio(y_predict[181], n_mels=128, dct_type=2, norm='ortho', ref=1.0, lifter=0),rate=44100)"
      ],
      "execution_count": null,
      "outputs": []
    },
    {
      "cell_type": "code",
      "metadata": {
        "id": "HoePpZB_a-n5"
      },
      "source": [
        "#Mise en place d'un early stopping : \n",
        "\n",
        "# Certainement à utiliser plus tard...\n",
        "#from tensorflow.keras.callbacks import EarlyStopping\n",
        "\n",
        "#early_stopping = EarlyStopping(\n",
        "#    min_delta=0.001, # minimium amount of change to count as an improvement\n",
        "#    patience=20, # how many epochs to wait before stopping\n",
        "#    restore_best_weights=True,\n",
        "#)"
      ],
      "execution_count": null,
      "outputs": []
    }
  ]
}