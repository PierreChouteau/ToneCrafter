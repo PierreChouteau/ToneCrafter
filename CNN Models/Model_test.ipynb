{
  "nbformat": 4,
  "nbformat_minor": 0,
  "metadata": {
    "colab": {
      "name": "Modele Pol",
      "provenance": [],
      "collapsed_sections": [],
      "toc_visible": true
    },
    "kernelspec": {
      "display_name": "Python 3",
      "language": "python",
      "name": "python3"
    },
    "language_info": {
      "codemirror_mode": {
        "name": "ipython",
        "version": 3
      },
      "file_extension": ".py",
      "mimetype": "text/x-python",
      "name": "python",
      "nbconvert_exporter": "python",
      "pygments_lexer": "ipython3",
      "version": "3.7.7"
    },
    "accelerator": "GPU"
  },
  "cells": [
    {
      "cell_type": "markdown",
      "metadata": {
        "id": "nywTT3UYvE7Q"
      },
      "source": [
        "# Première de création du model"
      ]
    },
    {
      "cell_type": "code",
      "metadata": {
        "id": "Yykeq1hEvE7x"
      },
      "source": [
        "import numpy as np\n",
        "import pandas as pd\n",
        "from sklearn.preprocessing import StandardScaler, OneHotEncoder\n",
        "from sklearn.compose import make_column_transformer, make_column_selector\n",
        "from sklearn.model_selection import train_test_split\n",
        "import tensorflow as tf"
      ],
      "execution_count": 1,
      "outputs": []
    },
    {
      "cell_type": "code",
      "metadata": {
        "id": "ed-v9ir6XN3N"
      },
      "source": [
        "X = pd.read_csv('/content/drive/MyDrive/Colab Notebooks/Audio/X_(clean_only).csv')\n",
        "X=X.drop(X.columns[0], axis=1)\n",
        "X=tf.convert_to_tensor(X, dtype=tf.complex64)\n"
      ],
      "execution_count": 5,
      "outputs": []
    },
    {
      "cell_type": "code",
      "metadata": {
        "colab": {
          "base_uri": "https://localhost:8080/"
        },
        "id": "4H_10gVRe-dW",
        "outputId": "d95654df-76fb-4481-af39-4b6cfbee7f2b"
      },
      "source": [
        "y = pd.read_csv('/content/drive/MyDrive/Colab Notebooks/Audio/y_5Gb.csv')\n",
        "\n",
        "y=y.drop(y.columns[0], axis=1)\n",
        "y=tf.convert_to_tensor(y, dtype=tf.complex64)\n",
        "\n",
        "# Remove target\n",
        "#X = clean.copy()\n",
        "preprocessor = make_column_transformer(\n",
        "    (StandardScaler(),\n",
        "     make_column_selector(dtype_include=np.number)),\n",
        "    (OneHotEncoder(sparse=False),\n",
        "     make_column_selector(dtype_include=object)),\n",
        ")\n",
        "#X = preprocessor.fit_transform(X)\n",
        "#y = np.log(y) # log transform target instead of standardizing\n",
        "\n",
        "input_shape = [X.shape[1]]\n",
        "\n",
        "print(\"Input shape: {}\".format(input_shape))"
      ],
      "execution_count": 6,
      "outputs": [
        {
          "output_type": "stream",
          "text": [
            "Input shape: [1]\n"
          ],
          "name": "stdout"
        }
      ]
    },
    {
      "cell_type": "code",
      "metadata": {
        "colab": {
          "base_uri": "https://localhost:8080/"
        },
        "id": "PkGNQ5ZGWAse",
        "outputId": "530e2973-fb79-4ba0-ed5b-c3d284d1f8e7"
      },
      "source": [
        "from google.colab import drive\n",
        "drive.mount('/content/drive')"
      ],
      "execution_count": 3,
      "outputs": [
        {
          "output_type": "stream",
          "text": [
            "Mounted at /content/drive\n"
          ],
          "name": "stdout"
        }
      ]
    },
    {
      "cell_type": "markdown",
      "metadata": {
        "id": "eZfdRC7-YtR8"
      },
      "source": [
        "### Importation des bibliothèques nécessaires"
      ]
    },
    {
      "cell_type": "markdown",
      "metadata": {
        "id": "uNPePZNPTBl5"
      },
      "source": [
        "### Configuration du model "
      ]
    },
    {
      "cell_type": "code",
      "metadata": {
        "id": "g3kNf22UTJo-"
      },
      "source": [
        "from tensorflow import keras\n",
        "from tensorflow.keras import layers\n",
        "model = keras.Sequential([\n",
        "          layers.BatchNormalization(input_shape=input_shape),\n",
        "          layers.Dense(units=2, activation='relu'),\n",
        "          layers.BatchNormalization(),\n",
        "          layers.Dense(units=2, activation='relu'),\n",
        "          layers.BatchNormalization(),\n",
        "          layers.Dense(units=2, activation='relu'),\n",
        "          layers.Dense(units=2,activation='sigmoid')\n",
        "          #layers.Dense(units=2, activation='relu'),\n",
        "          #layers.Dense(units=2, activation='relu'),\n",
        "          #layers.Dense(units=2, activation='relu'),\n",
        "\n",
        "\n",
        "])"
      ],
      "execution_count": 8,
      "outputs": []
    },
    {
      "cell_type": "code",
      "metadata": {
        "id": "Jm8Sh7P2VdRz"
      },
      "source": [
        "#opt = keras.optimizers.Adam(learning_rate=0.00009)\n",
        "model.compile(\n",
        "    optimizer = 'Adam',\n",
        "    loss = 'mae',\n",
        ")"
      ],
      "execution_count": 9,
      "outputs": []
    },
    {
      "cell_type": "markdown",
      "metadata": {
        "id": "-7KMOSkh5IeN"
      },
      "source": [
        "### Entrainement du modele"
      ]
    },
    {
      "cell_type": "code",
      "metadata": {
        "id": "_3OfyE-BV2Z2"
      },
      "source": [
        "history = model.fit(\n",
        "    X, y,\n",
        "    batch_size=256,\n",
        "    epochs=10,\n",
        ")\n",
        "# Start the plot at epoch 10\n",
        "history_df = pd.DataFrame(history.history)\n",
        "history_df.loc[0:, ['loss']].plot()"
      ],
      "execution_count": null,
      "outputs": []
    },
    {
      "cell_type": "code",
      "metadata": {
        "id": "uAHKREpjf3Ec"
      },
      "source": [
        "y_predict=model.predict(X)"
      ],
      "execution_count": null,
      "outputs": []
    },
    {
      "cell_type": "code",
      "metadata": {
        "id": "jd43e0Ckiup_"
      },
      "source": [
        "import os\n",
        "Audio_dir='/content/drive/MyDrive/Colab Notebooks/Audio'\n",
        "os.chdir(Audio_dir)\n",
        "import librosa\n",
        "import IPython.display as ipd\n",
        "ipd.Audio(librosa.core.istft(y_predict),rate=44100)\n",
        "pd.DataFrame(y_predict).to_csv(\"y_predicted_175.csv\")\n"
      ],
      "execution_count": 17,
      "outputs": []
    },
    {
      "cell_type": "code",
      "metadata": {
        "id": "HoePpZB_a-n5"
      },
      "source": [
        "#Mise en place d'un early stopping : \n",
        "\n",
        "# Certainement à utiliser plus tard...\n",
        "#from tensorflow.keras.callbacks import EarlyStopping\n",
        "\n",
        "#early_stopping = EarlyStopping(\n",
        "#    min_delta=0.001, # minimium amount of change to count as an improvement\n",
        "#    patience=20, # how many epochs to wait before stopping\n",
        "#    restore_best_weights=True,\n",
        "#)"
      ],
      "execution_count": null,
      "outputs": []
    }
  ]
}
