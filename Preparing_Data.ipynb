{
  "nbformat": 4,
  "nbformat_minor": 0,
  "metadata": {
    "colab": {
      "name": "Preparing_Data.ipynb",
      "provenance": [],
      "collapsed_sections": [
        "4RBgTZvlJLIq"
      ],
      "toc_visible": true
    },
    "kernelspec": {
      "name": "python3",
      "display_name": "Python 3"
    }
  },
  "cells": [
    {
      "cell_type": "markdown",
      "metadata": {
        "id": "loRK4CDZCJzw"
      },
      "source": [
        "# Setting up environnement :"
      ]
    },
    {
      "cell_type": "code",
      "metadata": {
        "colab": {
          "base_uri": "https://localhost:8080/"
        },
        "id": "0lCYXREcUttE",
        "outputId": "57250b13-e995-4b7f-c44d-6b0c2b31b9c3"
      },
      "source": [
        "!pip install pydub\r\n",
        "!pip install librosa"
      ],
      "execution_count": null,
      "outputs": [
        {
          "output_type": "stream",
          "text": [
            "Requirement already satisfied: pydub in /usr/local/lib/python3.7/dist-packages (0.25.0)\n",
            "Requirement already satisfied: librosa in /usr/local/lib/python3.7/dist-packages (0.8.0)\n",
            "Requirement already satisfied: scipy>=1.0.0 in /usr/local/lib/python3.7/dist-packages (from librosa) (1.4.1)\n",
            "Requirement already satisfied: scikit-learn!=0.19.0,>=0.14.0 in /usr/local/lib/python3.7/dist-packages (from librosa) (0.22.2.post1)\n",
            "Requirement already satisfied: pooch>=1.0 in /usr/local/lib/python3.7/dist-packages (from librosa) (1.3.0)\n",
            "Requirement already satisfied: audioread>=2.0.0 in /usr/local/lib/python3.7/dist-packages (from librosa) (2.1.9)\n",
            "Requirement already satisfied: resampy>=0.2.2 in /usr/local/lib/python3.7/dist-packages (from librosa) (0.2.2)\n",
            "Requirement already satisfied: joblib>=0.14 in /usr/local/lib/python3.7/dist-packages (from librosa) (1.0.1)\n",
            "Requirement already satisfied: numba>=0.43.0 in /usr/local/lib/python3.7/dist-packages (from librosa) (0.51.2)\n",
            "Requirement already satisfied: soundfile>=0.9.0 in /usr/local/lib/python3.7/dist-packages (from librosa) (0.10.3.post1)\n",
            "Requirement already satisfied: numpy>=1.15.0 in /usr/local/lib/python3.7/dist-packages (from librosa) (1.19.5)\n",
            "Requirement already satisfied: decorator>=3.0.0 in /usr/local/lib/python3.7/dist-packages (from librosa) (4.4.2)\n",
            "Requirement already satisfied: requests in /usr/local/lib/python3.7/dist-packages (from pooch>=1.0->librosa) (2.23.0)\n",
            "Requirement already satisfied: packaging in /usr/local/lib/python3.7/dist-packages (from pooch>=1.0->librosa) (20.9)\n",
            "Requirement already satisfied: appdirs in /usr/local/lib/python3.7/dist-packages (from pooch>=1.0->librosa) (1.4.4)\n",
            "Requirement already satisfied: six>=1.3 in /usr/local/lib/python3.7/dist-packages (from resampy>=0.2.2->librosa) (1.15.0)\n",
            "Requirement already satisfied: setuptools in /usr/local/lib/python3.7/dist-packages (from numba>=0.43.0->librosa) (54.0.0)\n",
            "Requirement already satisfied: llvmlite<0.35,>=0.34.0.dev0 in /usr/local/lib/python3.7/dist-packages (from numba>=0.43.0->librosa) (0.34.0)\n",
            "Requirement already satisfied: cffi>=1.0 in /usr/local/lib/python3.7/dist-packages (from soundfile>=0.9.0->librosa) (1.14.5)\n",
            "Requirement already satisfied: chardet<4,>=3.0.2 in /usr/local/lib/python3.7/dist-packages (from requests->pooch>=1.0->librosa) (3.0.4)\n",
            "Requirement already satisfied: idna<3,>=2.5 in /usr/local/lib/python3.7/dist-packages (from requests->pooch>=1.0->librosa) (2.10)\n",
            "Requirement already satisfied: urllib3!=1.25.0,!=1.25.1,<1.26,>=1.21.1 in /usr/local/lib/python3.7/dist-packages (from requests->pooch>=1.0->librosa) (1.24.3)\n",
            "Requirement already satisfied: certifi>=2017.4.17 in /usr/local/lib/python3.7/dist-packages (from requests->pooch>=1.0->librosa) (2020.12.5)\n",
            "Requirement already satisfied: pyparsing>=2.0.2 in /usr/local/lib/python3.7/dist-packages (from packaging->pooch>=1.0->librosa) (2.4.7)\n",
            "Requirement already satisfied: pycparser in /usr/local/lib/python3.7/dist-packages (from cffi>=1.0->soundfile>=0.9.0->librosa) (2.20)\n"
          ],
          "name": "stdout"
        }
      ]
    },
    {
      "cell_type": "code",
      "metadata": {
        "id": "izh-WL6zCENR"
      },
      "source": [
        "#Changing work dir\r\n",
        "import os\r\n",
        "Audio_dir='/content/drive/MyDrive/Colab Notebooks/Audio'\r\n",
        "os.chdir(Audio_dir)"
      ],
      "execution_count": null,
      "outputs": []
    },
    {
      "cell_type": "code",
      "metadata": {
        "id": "7OIfHkGWIsgK"
      },
      "source": [
        "import pydub \r\n",
        "import numpy as np\r\n",
        "import librosa\r\n",
        "import librosa.display\r\n",
        "import matplotlib.pyplot as plt\r\n"
      ],
      "execution_count": null,
      "outputs": []
    },
    {
      "cell_type": "markdown",
      "metadata": {
        "id": "UxhYgdqtB0ht"
      },
      "source": [
        "# Creating a numpy array from the mp3 files : "
      ]
    },
    {
      "cell_type": "code",
      "metadata": {
        "id": "pgp85Da9Buy5"
      },
      "source": [
        "\r\n",
        "def read(f, normalized=False,return_sr=True):\r\n",
        "    \"\"\"MP3 to numpy array\"\"\"\r\n",
        "    a = pydub.AudioSegment.from_wav(f)\r\n",
        "    y = np.float32(a.get_array_of_samples())\r\n",
        "    if a.channels == 2:\r\n",
        "        y = y.reshape((-1, 2))\r\n",
        "    if return_sr:\r\n",
        "      if normalized:\r\n",
        "          return a.frame_rate, np.float32(y) / 2**15\r\n",
        "      else:\r\n",
        "          return a.frame_rate, y\r\n",
        "    else:\r\n",
        "      if normalized:\r\n",
        "          return  np.float32(y) / 2**15\r\n",
        "      else:\r\n",
        "          return  y\r\n",
        "\r\n",
        "#We create an array of size music_length*sample_rate"
      ],
      "execution_count": null,
      "outputs": []
    },
    {
      "cell_type": "markdown",
      "metadata": {
        "id": "fRfVcGrJGtb1"
      },
      "source": [
        "# Splitting audio into chunks :"
      ]
    },
    {
      "cell_type": "code",
      "metadata": {
        "id": "0QcZkpSBF52l"
      },
      "source": [
        "def write(f, sr, x, normalized=False):\r\n",
        "    \"\"\"numpy array to WAV\"\"\"\r\n",
        "    channels = 2 if (x.ndim == 2 and x.shape[1] == 2) else 1\r\n",
        "    if normalized:  # normalized array - each item should be a float in [-1, 1)\r\n",
        "        y = np.int16(x * 2 ** 15)\r\n",
        "    else:\r\n",
        "        y = np.int16(x)\r\n",
        "    song = pydub.AudioSegment(y.tobytes(), frame_rate=sr, sample_width=2, channels=channels)\r\n",
        "    song.export(f, format=\"wav\", bitrate=\"320k\")\r\n"
      ],
      "execution_count": null,
      "outputs": []
    },
    {
      "cell_type": "code",
      "metadata": {
        "id": "ScdAL-rSJPhV"
      },
      "source": [
        "def split_audio(audio,split_size,name_input): ##audio : np array of sound, split size :number of samples per chunk, name : name of created chunks\r\n",
        "  samples=int(audio.size/split_size)\r\n",
        "  sample_array=np.empty(split_size)\r\n",
        "  iteration=0\r\n",
        "  print(split_size,audio.size)\r\n",
        "  for i in range (0,audio.size-split_size,split_size):\r\n",
        "    for j in range(split_size):\r\n",
        "      sample_array[j]=audio[i+j]\r\n",
        "    name=name_input+'_'+str(iteration)+'.wav'\r\n",
        "    iteration=iteration+1\r\n",
        "    write(name,44100,sample_array)\r\n",
        "  print(\"Created\",iteration,\"file(s)\")\r\n",
        "\r\n"
      ],
      "execution_count": null,
      "outputs": []
    },
    {
      "cell_type": "markdown",
      "metadata": {
        "id": "7KSwUHzukTyt"
      },
      "source": [
        "# Automation of the splitting process"
      ]
    },
    {
      "cell_type": "code",
      "metadata": {
        "id": "Web60gi3jIbq"
      },
      "source": [
        "def get_filename(dir_name):\r\n",
        "  filenames_list=[]\r\n",
        "  for entry in os.scandir(dir_name):\r\n",
        "     if (entry.path.endswith(\".wav\") and entry.is_file()):\r\n",
        "      filenames_list.append(entry.name)\r\n",
        "  return filenames_list\r\n",
        "         "
      ],
      "execution_count": null,
      "outputs": []
    },
    {
      "cell_type": "code",
      "metadata": {
        "id": "8MTNxnOipoYF"
      },
      "source": [
        "def split_audio_from_dir(dir_path,split_size): ##dir_path : path of directory to use split_size : size of the chunks in ms\r\n",
        "  filenames_list=get_filename(dir_path)\r\n",
        "  for filename in filenames_list:\r\n",
        "    os.chdir(dir_path)\r\n",
        "    sr,audio_array=read(filename)\r\n",
        "    samples=int(split_size*0.001*sr)\r\n",
        "    print(samples)\r\n",
        "    os.mkdir(dir_path+'/'+str(filename[:-4]))\r\n",
        "    os.chdir(dir_path+'/'+str(filename[:-4]))\r\n",
        "    print(\"Entering split_audio\")\r\n",
        "    extensionless=filename[:-4]\r\n",
        "    split_audio(audio_array,samples,extensionless)\r\n",
        "    \r\n",
        "    print(\"Treated \",filename)\r\n",
        "  "
      ],
      "execution_count": null,
      "outputs": []
    },
    {
      "cell_type": "code",
      "metadata": {
        "colab": {
          "base_uri": "https://localhost:8080/"
        },
        "id": "drBMz32PvUg6",
        "outputId": "a397ad91-b7f2-4712-b239-e1c91effeae2"
      },
      "source": [
        "split_audio_from_dir(Audio_dir,200)\r\n"
      ],
      "execution_count": null,
      "outputs": [
        {
          "output_type": "stream",
          "text": [
            "8820\n",
            "Entering split_audio\n",
            "8820 2558592\n",
            "Created 290 file(s)\n",
            "Treated  Disto_Drive60.wav\n",
            "8820\n",
            "Entering split_audio\n",
            "8820 2558592\n",
            "Created 290 file(s)\n",
            "Treated  Disto_Drive80.wav\n",
            "8820\n",
            "Entering split_audio\n",
            "8820 2558592\n",
            "Created 290 file(s)\n",
            "Treated  Disto_Drive100.wav\n",
            "8820\n",
            "Entering split_audio\n",
            "8820 2558592\n",
            "Created 290 file(s)\n",
            "Treated  Disto_Drive40.wav\n",
            "8820\n",
            "Entering split_audio\n",
            "8820 2558592\n",
            "Created 290 file(s)\n",
            "Treated  Disto_Drive20.wav\n",
            "8820\n",
            "Entering split_audio\n",
            "8820 2558592\n",
            "Created 290 file(s)\n",
            "Treated  Clean.wav\n",
            "8820\n",
            "Entering split_audio\n",
            "8820 2558592\n",
            "Created 290 file(s)\n",
            "Treated  Disto_TrebbleBoost_Drive60.wav\n",
            "8820\n",
            "Entering split_audio\n",
            "8820 2558592\n",
            "Created 290 file(s)\n",
            "Treated  Disto_TrebbleBoost_Drive100.wav\n",
            "8820\n",
            "Entering split_audio\n",
            "8820 2558592\n",
            "Created 290 file(s)\n",
            "Treated  Disto_TrebbleBoost_Drive80.wav\n",
            "8820\n",
            "Entering split_audio\n",
            "8820 2558592\n",
            "Created 290 file(s)\n",
            "Treated  Disto_BassBoost_Drive40.wav\n",
            "8820\n",
            "Entering split_audio\n",
            "8820 2558592\n",
            "Created 290 file(s)\n",
            "Treated  Disto_BassBoost_Drive20.wav\n",
            "8820\n",
            "Entering split_audio\n",
            "8820 2558592\n",
            "Created 290 file(s)\n",
            "Treated  Clean_TrebbleBoost.wav\n",
            "8820\n",
            "Entering split_audio\n",
            "8820 2558592\n",
            "Created 290 file(s)\n",
            "Treated  Clean_BassBoost.wav\n",
            "8820\n",
            "Entering split_audio\n",
            "8820 2558592\n",
            "Created 290 file(s)\n",
            "Treated  Disto_BassBoost_Drive80.wav\n",
            "8820\n",
            "Entering split_audio\n",
            "8820 2558592\n",
            "Created 290 file(s)\n",
            "Treated  Disto_BassBoost_Drive60.wav\n",
            "8820\n",
            "Entering split_audio\n",
            "8820 2558592\n",
            "Created 290 file(s)\n",
            "Treated  Disto_TrebbleBoost_Drive40.wav\n",
            "8820\n",
            "Entering split_audio\n",
            "8820 2558592\n",
            "Created 290 file(s)\n",
            "Treated  Disto_TrebbleBoost_Drive20.wav\n",
            "8820\n",
            "Entering split_audio\n",
            "8820 2558592\n",
            "Created 290 file(s)\n",
            "Treated  Disto_BassBoost_Drive100.wav\n",
            "8820\n",
            "Entering split_audio\n",
            "8820 2558592\n",
            "Created 290 file(s)\n",
            "Treated  Disto_BassCut_Drive80.wav\n",
            "8820\n",
            "Entering split_audio\n",
            "8820 2558592\n",
            "Created 290 file(s)\n",
            "Treated  Disto_BassCut_Drive60.wav\n",
            "8820\n",
            "Entering split_audio\n",
            "8820 2558592\n",
            "Created 290 file(s)\n",
            "Treated  Clean_BassCut.wav\n",
            "8820\n",
            "Entering split_audio\n",
            "8820 2558592\n",
            "Created 290 file(s)\n",
            "Treated  Disto_BassCut_Drive40.wav\n",
            "8820\n",
            "Entering split_audio\n",
            "8820 2558592\n",
            "Created 290 file(s)\n",
            "Treated  Disto_BassCut_Drive20.wav\n",
            "8820\n",
            "Entering split_audio\n",
            "8820 2558592\n",
            "Created 290 file(s)\n",
            "Treated  Disto_BassCut_Drive100.wav\n",
            "8820\n",
            "Entering split_audio\n",
            "8820 2558592\n",
            "Created 290 file(s)\n",
            "Treated  Clean_TrebbleCut.wav\n",
            "8820\n",
            "Entering split_audio\n",
            "8820 2558592\n",
            "Created 290 file(s)\n",
            "Treated  Disto_TrebbleCut_Drive60.wav\n",
            "8820\n",
            "Entering split_audio\n",
            "8820 2558592\n",
            "Created 290 file(s)\n",
            "Treated  Disto_TrebbleCut_Drive40.wav\n",
            "8820\n",
            "Entering split_audio\n",
            "8820 2558592\n",
            "Created 290 file(s)\n",
            "Treated  Disto_TrebbleCut_Drive100.wav\n",
            "8820\n",
            "Entering split_audio\n",
            "8820 2558592\n",
            "Created 290 file(s)\n",
            "Treated  Disto_TrebbleCut_Drive80.wav\n",
            "8820\n",
            "Entering split_audio\n",
            "8820 2558592\n",
            "Created 290 file(s)\n",
            "Treated  Disto_TrebbleCut_Drive20.wav\n"
          ],
          "name": "stdout"
        }
      ]
    },
    {
      "cell_type": "markdown",
      "metadata": {
        "id": "4RBgTZvlJLIq"
      },
      "source": [
        "# Visualizing sound with librosa"
      ]
    },
    {
      "cell_type": "code",
      "metadata": {
        "colab": {
          "base_uri": "https://localhost:8080/",
          "height": 414
        },
        "id": "BtpoDZGQCFfQ",
        "outputId": "b1a56536-bfca-45ac-e858-f47d64fc199f"
      },
      "source": [
        "Audio_dir1='/content/drive/MyDrive/Colab Notebooks/Audio/'+'Disto_TrebbleCut_Drive80'\r\n",
        "os.chdir(Audio_dir1)\r\n",
        "Disto=read('Disto_TrebbleCut_Drive80_280.wav',False,False)\r\n",
        "\r\n",
        "D = librosa.stft(Disto,n_fft=4096)\r\n",
        "Dirty_db = librosa.amplitude_to_db(np.abs(D), ref=np.max)\r\n",
        "fig1, ax1 = plt.subplots()\r\n",
        "img1 = librosa.display.specshow(Dirty_db, x_axis='time', y_axis='linear', ax=ax1)\r\n",
        "ax1.set(title='Dirty guitar sound')\r\n",
        "fig1.colorbar(img1, ax=ax1, format=\"%+2.f dB\")\r\n",
        "print(Dirty_db)\r\n",
        "#librosa.display.waveplot(read('Disto_TrebbleCut_Drive80_280.wav',False,False))"
      ],
      "execution_count": null,
      "outputs": [
        {
          "output_type": "stream",
          "text": [
            "[[-23.039253 -29.430138 -49.07984  ... -47.96524  -41.933067 -28.67006 ]\n",
            " [-22.822403 -28.692047 -56.157066 ... -54.437737 -53.82661  -29.413712]\n",
            " [-22.578026 -28.59143  -66.30762  ... -66.72671  -47.778442 -29.512993]\n",
            " ...\n",
            " [-78.94417  -69.60435  -63.428432 ... -70.08858  -72.45947  -76.86045 ]\n",
            " [-71.49811  -66.19801  -62.66016  ... -79.069824 -80.00001  -78.44914 ]\n",
            " [-66.21037  -80.00001  -64.92418  ... -79.29692  -80.00001  -76.57985 ]]\n"
          ],
          "name": "stdout"
        },
        {
          "output_type": "display_data",
          "data": {
            "image/png": "[encoded data removed]",
            "text/plain": [
              "<Figure size 432x288 with 2 Axes>"
            ]
          },
          "metadata": {
            "tags": [],
            "needs_background": "light"
          }
        }
      ]
    },
    {
      "cell_type": "code",
      "metadata": {
        "colab": {
          "base_uri": "https://localhost:8080/",
          "height": 86
        },
        "id": "89fgwMelHYFq",
        "outputId": "96ae3930-2f4f-4f61-ebba-8cdac47556fd"
      },
      "source": [
        "\"\"\"D = librosa.stft(dirty_sound)\r\n",
        "Dirty_db = librosa.amplitude_to_db(np.abs(D), ref=np.max)\r\n",
        "C = librosa.stft(clean_sound) \r\n",
        "Clean_db = librosa.amplitude_to_db(np.abs(C), ref=np.max)\r\n",
        "\r\n",
        "#Plotting spectrograms\r\n",
        "\r\n",
        "#Clean\r\n",
        "fig, ax = plt.subplots()\r\n",
        "img = librosa.display.specshow(Clean_db, x_axis='time', y_axis='linear', ax=ax)\r\n",
        "ax.set(title='Clean guitar sound')\r\n",
        "fig.colorbar(img, ax=ax, format=\"%+2.f dB\")\r\n",
        "##Dirty\r\n",
        "fig1, ax1 = plt.subplots()\r\n",
        "img1 = librosa.display.specshow(Dirty_db, x_axis='time', y_axis='linear', ax=ax1)\r\n",
        "ax1.set(title='Dirty guitar sound')\r\n",
        "fig.colorbar(img1, ax=ax1, format=\"%+2.f dB\")\"\"\"\r\n"
      ],
      "execution_count": null,
      "outputs": [
        {
          "output_type": "execute_result",
          "data": {
            "application/vnd.google.colaboratory.intrinsic+json": {
              "type": "string"
            },
            "text/plain": [
              "'D = librosa.stft(dirty_sound)\\nDirty_db = librosa.amplitude_to_db(np.abs(D), ref=np.max)\\nC = librosa.stft(clean_sound) \\nClean_db = librosa.amplitude_to_db(np.abs(C), ref=np.max)\\n\\n#Plotting spectrograms\\n\\n#Clean\\nfig, ax = plt.subplots()\\nimg = librosa.display.specshow(Clean_db, x_axis=\\'time\\', y_axis=\\'linear\\', ax=ax)\\nax.set(title=\\'Clean guitar sound\\')\\nfig.colorbar(img, ax=ax, format=\"%+2.f dB\")\\n##Dirty\\nfig1, ax1 = plt.subplots()\\nimg1 = librosa.display.specshow(Dirty_db, x_axis=\\'time\\', y_axis=\\'linear\\', ax=ax1)\\nax1.set(title=\\'Dirty guitar sound\\')\\nfig.colorbar(img1, ax=ax1, format=\"%+2.f dB\")'"
            ]
          },
          "metadata": {
            "tags": []
          },
          "execution_count": 116
        }
      ]
    },
    {
      "cell_type": "code",
      "metadata": {
        "id": "estozVVHDW3z",
        "colab": {
          "base_uri": "https://localhost:8080/",
          "height": 52
        },
        "outputId": "dba8fa20-7094-4025-a979-dbc5330abce2"
      },
      "source": [
        "\"\"\"os.chdir('/content/drive/MyDrive/Colab Notebooks/Audio_dirty')\r\n",
        "split_audio(dirty_sound,50,'dirty')\r\n",
        "os.chdir('/content/drive/MyDrive/Colab Notebooks/Audio_clean')\r\n",
        "split_audio(clean_sound,50,'clean')\"\"\""
      ],
      "execution_count": null,
      "outputs": [
        {
          "output_type": "execute_result",
          "data": {
            "application/vnd.google.colaboratory.intrinsic+json": {
              "type": "string"
            },
            "text/plain": [
              "\"os.chdir('/content/drive/MyDrive/Colab Notebooks/Audio_dirty')\\nsplit_audio(dirty_sound,50,'dirty')\\nos.chdir('/content/drive/MyDrive/Colab Notebooks/Audio_clean')\\nsplit_audio(clean_sound,50,'clean')\""
            ]
          },
          "metadata": {
            "tags": []
          },
          "execution_count": 117
        }
      ]
    }
  ]
}